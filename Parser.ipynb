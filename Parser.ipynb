{
 "cells": [
  {
   "cell_type": "code",
   "execution_count": 1,
   "metadata": {},
   "outputs": [],
   "source": [
    "import re\n",
    "\n",
    "v2 = \"MAMTA*y*0F0C034FBFF7F7F110C0041A089F7D120C064E8FDBF7F130C024210D2F81150CFC3E0FA7F7B160C024030CFF7F170C004060ACF7F180C014200BAF7E190C014050F4F86*170201100107\"\n",
    "\n",
    "gateway1 = \"MAGW,02/01/17,10:00:05,0,000,000,,14.00,10\"\n",
    "\n",
    "gateway2 = \"GATEWAY*RSSI,LUN,LUNSA,,,,LUNTD,88,12.50,LUNTB,92,12.50,LUNTC,95,10.57*190227140630\"\n",
    "\n",
    "arq = \"ARQ+0+0+4.311+4.219+0.0005+5.209+0.213+0010+13+30.0+66.5+443+170201/100059\"\n",
    "\n",
    "v1 = \"PLABDUE*0A3F4029FBF08A10B3DB03504109380C40001AFB009380D3D8FF4FDB08F50E3E9FE3F9008920F33901253B0916103EE004FB008F5113F702FFC5095A124320F4FEA0A28*170201100149\"\n",
    "\n",
    "nds = \"NO DATA FROM SENSELOPE\"\n",
    "\n",
    "extenso = \"IMULA*L*LR:115.223*BV:8.39*BI:134.90*AC:9.4941,-0.1819,-0.7813*MG:0.1572,0.1217,-0.6086*GR:7.4200,9.2312,2.5200*TP:45.75*190226145005\"\n",
    "\n",
    "b64 = \"HINSB*AM*EP7Ao/qCCMQI/c/9CIJP3/I/qCFFP9/O+LCGNP4/HA0CIDQF/a/SB/IQB/hAICGLP+AH/SCDBP0/pAJCDGP7+7AsB+CQC/R/kCCHP8Ab+oB/KP8/o/ICC*190226150030\"\n",
    "\n",
    "test = [v2,gateway1,gateway2,arq,v1,nds,extenso,b64]\n",
    "types = [\"v2\",\"gateway1\",\"gateway2\",\"arq\",\"v1\",\"nodata\",\"extenso\",\"b64\"]"
   ]
  },
  {
   "cell_type": "code",
   "execution_count": 4,
   "metadata": {},
   "outputs": [],
   "source": [
    "class subSurfaceData:\n",
    "    def __init__(self):\n",
    "        self.version = 0\n",
    "        self.gid = 0\n",
    "        self.accelNumber = 0\n",
    "        self.timestamp = 0\n",
    "        self.freqShift = 0\n",
    "        self.voltage\n",
    "        self.x = 0\n",
    "        self.y = 0\n",
    "        self.z = 0\n",
    "\n",
    "class loggerMessage():\n",
    "    def __init__(self):\n",
    "        self.type = \"0\"\n",
    "        self.msg = \"\"\n",
    "        self.partsLength = 0\n",
    "\n",
    "        \n",
    "def msgClassifier(message):\n",
    "    messageParts = re.split(\",|\\\\+|\\\\*\", message)\n",
    "    messagePartsLength = len(messageParts)\n",
    "    msg = loggerMessage()\n",
    "    msg.msg = messageParts\n",
    "    msg.partsLength = messagePartsLength\n",
    "    if messagePartsLength == 1:\n",
    "        msg.type = types[5]\n",
    "    elif messagePartsLength == 3:\n",
    "        msg.type = types[4]\n",
    "    elif messagePartsLength >= 4:\n",
    "        if messageParts[0] == \"ARQ\":\n",
    "            msg.type = types[3]\n",
    "        elif messageParts[0] == \"GATEWAY\":\n",
    "            msg.type = types[2]\n",
    "        elif len(messageParts[0]) == 4:\n",
    "            msg.type = types[1]\n",
    "        elif len(messageParts[0]) == 5:\n",
    "            if len(messageParts[1]) == 2:\n",
    "                msg.type = types[7]\n",
    "            else:\n",
    "                msg.type = types[0]\n",
    "                \n",
    "        else:\n",
    "            msg.type = \"others\"\n",
    "    else:\n",
    "        msg.type = \"unknown\"\n",
    "    \n",
    "    return msg\n",
    "\n",
    "def v2Parser(msgParts):\n",
    "    \n",
    "    dtype = datafield[2:4].upper()\n",
    "    if dtype == \"20\" or dtype == \"0B\":\n",
    "        dtypestr = \"x\"\n",
    "    elif dtype == \"21\" or dtype == \"0C\":\n",
    "        dtypestr = \"y\"\n",
    "    elif dtype == \"6F\" or dtype == \"15\":\n",
    "        dtypestr = \"b\"\n",
    "    elif dtype == \"70\" or dtype == \"1A\":\n",
    "        dtypestr = \"c\"\n",
    "    else:\n",
    "        raise ValueError(\">> Data type\" + dtype + \"not recognized\")\n",
    "    \n",
    "\n",
    "    \n"
   ]
  },
  {
   "cell_type": "code",
   "execution_count": 5,
   "metadata": {},
   "outputs": [
    {
     "name": "stdout",
     "output_type": "stream",
     "text": [
      "v2\n",
      "gateway1\n",
      "gateway2\n",
      "arq\n",
      "v1\n",
      "nodata\n",
      "v2\n"
     ]
    }
   ],
   "source": [
    "for i in range (0,7):\n",
    "#     print(len(re.split(\",|\\\\+|\\\\*\", test[i])))\n",
    "    print(msgClassifier(test[i]).type)\n",
    "\n"
   ]
  },
  {
   "cell_type": "code",
   "execution_count": null,
   "metadata": {},
   "outputs": [],
   "source": []
  }
 ],
 "metadata": {
  "kernelspec": {
   "display_name": "Python 3",
   "language": "python",
   "name": "python3"
  },
  "language_info": {
   "codemirror_mode": {
    "name": "ipython",
    "version": 3
   },
   "file_extension": ".py",
   "mimetype": "text/x-python",
   "name": "python",
   "nbconvert_exporter": "python",
   "pygments_lexer": "ipython3",
   "version": "3.7.1"
  }
 },
 "nbformat": 4,
 "nbformat_minor": 2
}
